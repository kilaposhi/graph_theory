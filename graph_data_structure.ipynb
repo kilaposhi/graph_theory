{
 "cells": [
  {
   "cell_type": "markdown",
   "source": [
    "# Les différentes structures de données utilisées pour les graphs\n",
    "\n",
    "![graph examples](./images/graph_example.png)\n",
    "\n",
    "### Comment **implémenter** un graph sur un ordinateur ?\n",
    "\n",
    "Il existe plusieurs *data structures* qui permettent de représenter un graph dans un ordinateur."
   ],
   "metadata": {
    "collapsed": false
   }
  },
  {
   "cell_type": "code",
   "execution_count": 1,
   "outputs": [],
   "source": [
    "# Imports :\n",
    "import numpy as np\n",
    "import matplotlib.pyplot as plt\n",
    "import networkx as nx"
   ],
   "metadata": {
    "collapsed": false,
    "ExecuteTime": {
     "start_time": "2023-04-25T18:29:01.762113Z",
     "end_time": "2023-04-25T18:29:04.644063Z"
    }
   }
  },
  {
   "cell_type": "markdown",
   "source": [
    "# La matrice d'adjacence :\n",
    "\n",
    "On représente un graphe dans une matrice carrée de la même taille que le nombre de sommets.\n",
    "- Les lignes donnent les successeurs de chaque sommets.\n",
    "- Les colonnes donnent les prédecesseurs de chaque sommets.\n",
    "- La matrice est contient `0` s'il n'y a pas d'arcs, `1` s'il y a un arc. On pourrait remplacer `0` par `False` et `1` par `True`\n",
    "\n",
    "Exemple :\n",
    "```\n",
    "   0  1  2\n",
    "0 [0, 1, 1]\n",
    "1 [0, 0, 1]\n",
    "2 [0, 1, 0]\n",
    "```\n",
    "- On voit qu'il y a un arc entre le sommet 0 et le sommet 1 (`matrix[0][1] == 1`)\n",
    "- On voit qu'il n'y a pas d'arcs entre le sommet 2 et le sommet 1 (`matrix[2][0] == 0`)\n",
    "- Le sommet 0 a pour successeurs les sommets `[1,2]`\n",
    "- Le sommet 1 a pour prédécesseurs les sommets `[0,2]`\n",
    "Le graphe :\n",
    "<img src=\"images/adjacency_matrix_ex.png\">\n",
    "\n",
    "- Visuellement facile à comprendre\n",
    "- Peut implémenter facilement des graphes valués en remplaçant les `1` par la valeur de l'arc\n",
    "\n",
    "Une des pires data structures à utiliser, beaucoup de **space** et de **time** complexity\n",
    "Complexité : $O(n^2)$\n"
   ],
   "metadata": {
    "collapsed": false
   }
  },
  {
   "cell_type": "code",
   "execution_count": null,
   "outputs": [],
   "source": [],
   "metadata": {
    "collapsed": false
   }
  },
  {
   "cell_type": "markdown",
   "source": [
    "# La file des successeurs: (successor list)"
   ],
   "metadata": {
    "collapsed": false
   }
  },
  {
   "cell_type": "markdown",
   "source": [
    "\n",
    "La file des successeurs associe chaque sommets d'un *graph* avec ces successeurs ($d+$), par exemple :\n",
    "```python\n",
    "{0: [3], 1: [2, 3], 2: [3], 3: []}\n",
    "```\n",
    "- On voit qu'il y a 4 sommets `[0, 1, 2, 3]`\n",
    "- Le sommet `0` a un successeur qui est `3` donc le graph a un arc (0,3)\n",
    "\n",
    "Voici le *graph* correspondant à la file des successeurs exemple :\n",
    "<img src=\"images/successor_list_example.png\">\n",
    "\n",
    "\n",
    "**Complexité** :\n",
    "\n",
    "-\n",
    "- Parfait pour Graph directionelle (orienté AKA avec des flèches)\n",
    "- Pas de graphes valués possibles.\n",
    "\n",
    "**Fast access**: The successor list allows for fast access to the outgoing edges of each vertex, making it an efficient data structure for algorithms that require traversal of the graph.\n",
    "\n",
    "Dynamic: The successor list can be dynamically updated to add or remove edges from the graph, which is useful in situations where the graph changes frequently.\n",
    "\n",
    "Non-uniform degree: The successor list can handle graphs with non-uniform vertex degrees, which means that some vertices can have more outgoing edges than others.\n",
    "\n",
    "No edge weights: The successor list does not provide a natural way to store edge weights, although this can be addressed by storing additional data alongside the successor list.\n",
    "\n",
    "More memory than adjacency list: The successor list uses more memory than an adjacency list for dense graphs, where each vertex has many outgoing edges, because it requires a separate list for each vertex.\n"
   ],
   "metadata": {
    "collapsed": false
   }
  },
  {
   "cell_type": "markdown",
   "source": [],
   "metadata": {
    "collapsed": false
   }
  },
  {
   "cell_type": "code",
   "execution_count": 2,
   "outputs": [
    {
     "name": "stdout",
     "output_type": "stream",
     "text": [
      "Les successeurs de 1 :  [2, 3]\n",
      "{0: [3], 1: [2, 3], 2: [3], 3: []}\n"
     ]
    }
   ],
   "source": [
    "class SuccessorList:\n",
    "    def __init__(self, num_vertices):\n",
    "        self.num_vertices = num_vertices\n",
    "        self.successors = {i: [] for i in range(num_vertices)}\n",
    "\n",
    "    def __str__(self):\n",
    "        return str(self.successors)\n",
    "\n",
    "    def add_edge(self, vertex1, vertex2):\n",
    "        \"\"\"\n",
    "        Add an edge (link) from vertex1 to vertex2\n",
    "        \"\"\"\n",
    "        self.successors[vertex1].append(vertex2)\n",
    "\n",
    "    def get_successors(self, vertex):\n",
    "        return self.successors[vertex]\n",
    "\n",
    "successor_list= SuccessorList(4)\n",
    "successor_list.add_edge(1,2)\n",
    "successor_list.add_edge(1,3)\n",
    "successor_list.add_edge(0,3)\n",
    "successor_list.add_edge(2,3)\n",
    "print(f\"Les successeurs de 1 :  {successor_list.get_successors(1)}\")\n",
    "print(successor_list)"
   ],
   "metadata": {
    "collapsed": false,
    "ExecuteTime": {
     "start_time": "2023-04-25T18:29:12.871829Z",
     "end_time": "2023-04-25T18:29:12.894191Z"
    }
   }
  },
  {
   "cell_type": "code",
   "execution_count": 70,
   "outputs": [
    {
     "data": {
      "text/plain": "<Figure size 640x480 with 1 Axes>",
      "image/png": "[encoded data removed]"
     },
     "metadata": {},
     "output_type": "display_data"
    }
   ],
   "source": [
    "def successorList_to_Graph(successor_list : SuccessorList):\n",
    "    return nx.DiGraph(successor_list.successors)\n",
    "\n",
    "graph = successorList_to_Graph(successor_list)\n",
    "nx.draw_networkx(graph)\n",
    "# plt.savefig(\"C:\\Users\\kilap\\DataspellProjects\\graph_theory\\images\\successor_list_ex.png\")\n",
    "plt.show()"
   ],
   "metadata": {
    "collapsed": false,
    "ExecuteTime": {
     "start_time": "2023-04-25T16:46:51.391446Z",
     "end_time": "2023-04-25T16:46:51.672177Z"
    }
   }
  },
  {
   "cell_type": "markdown",
   "source": [
    "### Implémentation avec deux tableaux\n",
    "\n",
    "Pour fonctionner plus rapidement on peut aussi implémenter la file des successeurs avec 2 tableaux :\n",
    "- `alpha` : Tableau de taille  `n` (**`n` est le nombre de sommets**), chaque indice correspond à un sommet et le contenu du tableau est **l'indice de `beta` du premier successeur** de ce sommet.\n",
    "- `beta` : Tableau de taille `m` (**`m` est le nombre d'arcs du graph**), contenant la liste des successeurs de chaque sommets.\n",
    "Les successeurs d'un sommet i sont dans `beta` entre les indices `alpha[i]` et `alpha[i+1]`\n",
    "Le nombre de successeurs d'un sommet i est `alpha[i+1] - alpha[i]`\n",
    "Si un sommet n'a pas de successeurs alors `alpha[i] = alpha[i+1]`\n",
    "\n",
    "Exemple :\n",
    "```python\n",
    "alpha = [0,0, 1, 1]\n",
    "beta = [3]\n",
    "```\n",
    "Ici on voit que le sommet 2 n'a pas de successeurs car : `alpha[2+1] - alpha[2]`$ = 1 - 1 = 0$\n",
    "Le sommet 1 a un successeurs car : `alpha[1+1] - alpha[1]`$ = 1 - 0 = 1$\n",
    "Le successeur du sommet 1 se trouve dans beta à l'indice `alpha[1]`, soit `beta[0]` d'où le sommet 3 est un successeur de 1.\n"
   ],
   "metadata": {
    "collapsed": false
   }
  },
  {
   "cell_type": "markdown",
   "source": [
    "Voici une implémentation à deux tableaux de la liste des prédecesseurs, qui est analogue à la liste des successeurs.\n",
    "> La manipulation de tableaux impose des `if` conditions peu lisibles pour gérer les indices et ne pas demander l'accès à des indices inexistants des list."
   ],
   "metadata": {
    "collapsed": false
   }
  },
  {
   "cell_type": "code",
   "execution_count": 74,
   "outputs": [
    {
     "name": "stdout",
     "output_type": "stream",
     "text": [
      "Vertex 3 number of predecessors: 3\n",
      "Predecessors of vertex 3 : [0, 2, 3]\n",
      "Predecessors of vertex 1 : [0, 2]\n",
      "alpha : [0, 0, 2, 2]  | beta : [0, 2, 0, 2, 3]\n"
     ]
    }
   ],
   "source": [
    "class PredecessorList:\n",
    "    def __init__(self, num_vertices):\n",
    "        self.num_vertices = num_vertices\n",
    "        self.alpha=[0 for i in range(num_vertices)]\n",
    "        self.beta=[]\n",
    "\n",
    "    def __str__(self):\n",
    "        return f\"alpha : {str(self.alpha)}  | beta : {str(self.beta)}\"\n",
    "\n",
    "    def add_vertex(self, vertex):\n",
    "        if vertex <= self.num_vertices:\n",
    "            raise Exception(\"Error: adding a vertex that already exists\")\n",
    "        self.num_vertices+=1\n",
    "        self.alpha.append(len(self.beta)-1) # last index of beta\n",
    "\n",
    "\n",
    "    def add_edge(self, vertex1, vertex2):\n",
    "        \"\"\"\n",
    "        Add edge from vertex1 to vertex2\n",
    "        \"\"\"\n",
    "        index = vertex2 + 1\n",
    "        if index == self.num_vertices:\n",
    "            self.beta.append(vertex1)\n",
    "            return\n",
    "        self.beta.insert(self.alpha[index], vertex1)\n",
    "        while index < len(self.alpha):\n",
    "            self.alpha[index]+=1\n",
    "            index += 1\n",
    "\n",
    "    def get_predecessors(self, vertex):\n",
    "        if self.get_num_predecessors(vertex) == 0:\n",
    "            raise Exception(\"Error : Vertex doesn't have predecessors\")\n",
    "        if vertex + 1 == self.num_vertices :\n",
    "            predecessor_range = range(self.alpha[vertex], len(self.beta))\n",
    "        else:\n",
    "            predecessor_range = range(self.alpha[vertex], self.alpha[vertex + 1])\n",
    "        return [self.beta[i] for i in predecessor_range]\n",
    "\n",
    "    def get_num_predecessors(self, vertex):\n",
    "        if vertex + 1 == self.num_vertices:\n",
    "            return len(self.beta) - self.alpha[vertex]\n",
    "        return self.alpha[vertex + 1] - self.alpha[vertex]\n",
    "\n",
    "\n",
    "predecessor_list = PredecessorList(4)\n",
    "predecessor_list.add_edge(0, 1)\n",
    "predecessor_list.add_edge(2, 1 )\n",
    "predecessor_list.add_edge(0, 3)\n",
    "predecessor_list.add_edge(2, 3)\n",
    "predecessor_list.add_edge(3, 3)\n",
    "print(f\"Vertex 3 number of predecessors: {predecessor_list.get_num_predecessors(3)}\")\n",
    "print(f\"Predecessors of vertex 3 : {predecessor_list.get_predecessors(3)}\")\n",
    "print(f\"Predecessors of vertex 1 : {predecessor_list.get_predecessors(1)}\")\n",
    "print(predecessor_list)\n"
   ],
   "metadata": {
    "collapsed": false,
    "ExecuteTime": {
     "start_time": "2023-04-25T16:55:08.613670Z",
     "end_time": "2023-04-25T16:55:08.630524Z"
    }
   }
  }
 ],
 "metadata": {
  "kernelspec": {
   "display_name": "Python 3",
   "language": "python",
   "name": "python3"
  },
  "language_info": {
   "codemirror_mode": {
    "name": "ipython",
    "version": 2
   },
   "file_extension": ".py",
   "mimetype": "text/x-python",
   "name": "python",
   "nbconvert_exporter": "python",
   "pygments_lexer": "ipython2",
   "version": "2.7.6"
  }
 },
 "nbformat": 4,
 "nbformat_minor": 0
}
