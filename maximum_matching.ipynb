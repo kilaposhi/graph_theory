{
 "cells": [
  {
   "cell_type": "markdown",
   "source": [
    "# Couplage maximale d'un graphe"
   ],
   "metadata": {
    "collapsed": false
   }
  },
  {
   "cell_type": "markdown",
   "source": [
    "### Définitions\n",
    "\n",
    "**Couplage** : Un couplage C est un ensemble d’arêtes (resp. d’arcs) ne\n",
    "contenant pas deux arêtes (resp. arcs) adjacentes à un même sommet. Les\n",
    "arcs du couplage seront dits épais les autres minces.\n",
    "\n",
    "**Sommet saturé, insaturé** : Pour un couplage C un sommet est dit saturé si un\n",
    "arc du couplage est adjacent à ce sommet sinon il est dit insaturé\n",
    "\n",
    "**Chaîne alternée, améliorante** : Une chaîne alternée d’un couplage C est une\n",
    "chaîne du graphe dont les arcs sont alternativement dans le couplage et\n",
    "hors du couplage. Une chaîne améliorante est une chaîne alternée reliant\n",
    "deux sommets insaturés. Une chaîne améliorante est de longeur impair (longueur = nombre d'arcs)\n",
    "\n",
    "Définition : Un couplage est maximal $\\Leftrightarrow$ le graphe ne contient pas de chaine améliorante\n",
    "\n"
   ],
   "metadata": {
    "collapsed": false
   }
  },
  {
   "cell_type": "markdown",
   "source": [
    "### Chaine alterné et améliorante"
   ],
   "metadata": {
    "collapsed": false
   }
  },
  {
   "cell_type": "markdown",
   "source": [
    "Une chaine alternée est un chaine qui..."
   ],
   "metadata": {
    "collapsed": false
   }
  },
  {
   "cell_type": "markdown",
   "source": [
    "On prendra le cas où l'on a un graphe biparti (voir [graphe biparti](graph_terminology.ipynb#graphe-biparti)\n",
    "\n"
   ],
   "metadata": {
    "collapsed": false
   }
  },
  {
   "cell_type": "code",
   "execution_count": null,
   "outputs": [],
   "source": [
    "import queue\n",
    "\n",
    "import networkx as nx\n",
    "import numpy as np\n",
    "from networkx.algorithms import bipartite\n",
    "from graph_creator import draw_graph, draw_grey_graph\n",
    "\n",
    "def mark_insaturated_bottom_nodes():\n",
    "    pass\n",
    "\n",
    "# TODO Améliore le couplage | backtrack les marques jusqu'à marque '*'\n",
    "# TODO Update le unsaturated set\n",
    "def updgrade_matching(augmenting_path :dict):\n",
    "    pass\n",
    "\n",
    "\n",
    "def find_maximum_matching(bipartite_graph : nx.Graph):\n",
    "    matching = {}\n",
    "    bottom_nodes, top_nodes = bipartite.sets(bipartite_graph)\n",
    "    num_vertices = bipartite_graph.number_of_nodes()\n",
    "    not_saturated = {np.arange(num_vertices)}\n",
    "\n",
    "    # Init marked_vertices_queue\n",
    "    marked_vertices_queue = queue.Queue(num_vertices)\n",
    "    for vertex in bottom_nodes :\n",
    "        marked_vertices_queue.put(vertex)\n",
    "        marked_vertices = {vertex : '*' for vertex in bottom_nodes }\n",
    "    while not marked_vertices_queue.empty():\n",
    "        marked_vertex = marked_vertices_queue.get()\n",
    "        if marked_vertex in bottom_nodes:\n",
    "\n",
    "            edges_not_in_matching = set(bipartite_graph.neighbors(marked_vertex)) - set(matching)\n",
    "            for adjacent_vertex in edges_not_in_matching:\n",
    "\n",
    "                if adjacent_vertex not in marked_vertices:\n",
    "                    marked_vertices[adjacent_vertex]= marked_vertex\n",
    "            break\n",
    "        if marked_vertex in top_nodes:\n",
    "            if marked_vertex is not_saturated:\n",
    "                matching , not_saturated= updgrade_matching()\n",
    "                mark_insaturated_bottom_nodes()\n",
    "            else:\n",
    "                adjacent_in_matching = int( set(bipartite_graph.neighbors(marked_vertex)) & set(matching))\n",
    "                marked_vertices_queue.put(adjacent_in_matching)\n",
    "                marked_vertices[adjacent_in_matching] = marked_vertex\n",
    "\n",
    "        break\n",
    "    maximum_matching = matching\n",
    "    return maximum_matching\n",
    "\n",
    "bipartite_graph = bipartite.random_graph(4,5, 1)\n",
    "# find_maximum_matching(bipartite_graph)"
   ],
   "metadata": {
    "collapsed": false,
    "pycharm": {
     "is_executing": true
    }
   }
  }
 ],
 "metadata": {
  "kernelspec": {
   "display_name": "Python 3",
   "language": "python",
   "name": "python3"
  },
  "language_info": {
   "codemirror_mode": {
    "name": "ipython",
    "version": 2
   },
   "file_extension": ".py",
   "mimetype": "text/x-python",
   "name": "python",
   "nbconvert_exporter": "python",
   "pygments_lexer": "ipython2",
   "version": "2.7.6"
  }
 },
 "nbformat": 4,
 "nbformat_minor": 0
}
