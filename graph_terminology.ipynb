{
 "cells": [
  {
   "cell_type": "markdown",
   "source": [
    "# Terminologie et définition pour Graphes"
   ],
   "metadata": {
    "collapsed": false
   }
  },
  {
   "cell_type": "markdown",
   "source": [
    "Il existe beaucoup de vocabulaire pour l'étude des graphes, voici quelques notions illustrée ici :\n"
   ],
   "metadata": {
    "collapsed": false
   }
  },
  {
   "cell_type": "markdown",
   "source": [
    "### Traduction en English :\n",
    ">From GPT!\n",
    "\n",
    "- Vertex (also known as node): A point in a graph.9.\n",
    "\n",
    "- Edge (also known as arc or link): A connection between two vertices.\n",
    "\n",
    "- Directed graph (also known as digraph): A graph where the edges have a direction.\n",
    "\n",
    "- Undirected graph: A graph where the edges do not have a direction.\n",
    "\n",
    "- Path: A sequence of vertices connected by edges.\n",
    "\n",
    "- Cycle: A path that starts and ends at the same vertex.\n",
    "\n",
    "- Degree: The number of edges incident to a vertex.\n",
    "\n",
    "- In-degree: The number of edges that point into a vertex in a directed graph.\n",
    "\n",
    "- Out-degree: The number of edges that point out of a vertex in a directed graph.\n",
    "\n",
    "- Weighted graph: A graph where the edges have a weight or cost associated with them.\n",
    "\n",
    "- Connected graph: A graph where there is a path between every pair of vertices.\n",
    "\n",
    "- Disconnected graph: A graph where there are one or more pairs of vertices that are not connected by a path.\n",
    "\n",
    "- Subgraph: A graph that is a subset of another graph, with some edges and vertices removed.\n",
    "\n",
    "- Spanning tree: A subgraph that is a tree and includes all the vertices of the original graph.\n",
    "\n",
    "- Adjacency matrix: A matrix that represents the edges between vertices in a graph.\n",
    "\n",
    "- Adjacency list: A data structure that stores the edges of a graph as a list of neighbors for each vertex.\n",
    "\n",
    "- Graph traversal: The process of visiting all the vertices and edges of a graph in a systematic way."
   ],
   "metadata": {
    "collapsed": false
   }
  },
  {
   "cell_type": "markdown",
   "source": [
    "\"Couplage maximal\" translates to \"maximum matching\" in English. In graph theory, a maximum matching is a matching (a set of edges without common vertices) that includes the largest possible number of edges.\n",
    "\n",
    "\"Chaine améliorante\" translates to \"augmenting path\" in English. In graph theory, an augmenting path is a path that starts and ends with unmatched vertices, and alternates between edges in the matching and edges not in the matching. Augmenting paths can be used to increase the size of a matching."
   ],
   "metadata": {
    "collapsed": false
   }
  }
 ],
 "metadata": {
  "kernelspec": {
   "display_name": "Python 3",
   "language": "python",
   "name": "python3"
  },
  "language_info": {
   "codemirror_mode": {
    "name": "ipython",
    "version": 2
   },
   "file_extension": ".py",
   "mimetype": "text/x-python",
   "name": "python",
   "nbconvert_exporter": "python",
   "pygments_lexer": "ipython2",
   "version": "2.7.6"
  }
 },
 "nbformat": 4,
 "nbformat_minor": 0
}
